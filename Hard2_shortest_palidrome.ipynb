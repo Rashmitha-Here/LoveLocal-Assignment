{
  "nbformat": 4,
  "nbformat_minor": 0,
  "metadata": {
    "colab": {
      "provenance": []
    },
    "kernelspec": {
      "name": "python3",
      "display_name": "Python 3"
    },
    "language_info": {
      "name": "python"
    }
  },
  "cells": [
    {
      "cell_type": "code",
      "execution_count": 1,
      "metadata": {
        "colab": {
          "base_uri": "https://localhost:8080/"
        },
        "id": "cglx4NNo05TL",
        "outputId": "3fd42c0a-774b-475a-bfe6-8893b7c992c5"
      },
      "outputs": [
        {
          "output_type": "stream",
          "name": "stdout",
          "text": [
            "abcd\n",
            "dcbabcd\n"
          ]
        }
      ],
      "source": [
        "def shortest_palindrome(str):\n",
        "    if not str:\n",
        "        return \"\"\n",
        "\n",
        "    combined = str + \"#\" + str[::-1]\n",
        "\n",
        "    prefix = [0] * len(combined)\n",
        "    for i in range(1, len(combined)):\n",
        "        j = prefix[i - 1]\n",
        "        while j > 0 and combined[i] != combined[j]:\n",
        "            j = prefix[j - 1]\n",
        "        if combined[i] == combined[j]:\n",
        "            j += 1\n",
        "        prefix[i] = j\n",
        "\n",
        "    palindrome_len = prefix[-1]\n",
        "    return str[palindrome_len:][::-1] + str\n",
        "\n",
        "str = input()\n",
        "output = shortest_palindrome(str)\n",
        "print(output)"
      ]
    }
  ]
}