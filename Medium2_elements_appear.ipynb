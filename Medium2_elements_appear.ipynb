{
  "nbformat": 4,
  "nbformat_minor": 0,
  "metadata": {
    "colab": {
      "provenance": []
    },
    "kernelspec": {
      "name": "python3",
      "display_name": "Python 3"
    },
    "language_info": {
      "name": "python"
    }
  },
  "cells": [
    {
      "cell_type": "code",
      "execution_count": 2,
      "metadata": {
        "colab": {
          "base_uri": "https://localhost:8080/"
        },
        "id": "3qwK_zdO0gm3",
        "outputId": "ff24f2a5-dc83-4b9a-dfa0-c88d05d3aa0e"
      },
      "outputs": [
        {
          "output_type": "stream",
          "name": "stdout",
          "text": [
            "3 2 3\n",
            "[3]\n"
          ]
        }
      ],
      "source": [
        "def finding_elements_occurs_more_than_n_over_k(number):\n",
        "    if not number:\n",
        "        return []\n",
        "\n",
        "    candidate1, c1 = None, 0\n",
        "    candidate2, c2 = None, 0\n",
        "    for num in number:\n",
        "        if candidate1 == num:\n",
        "            c1 += 1\n",
        "        elif candidate2 == num:\n",
        "            c2 += 1\n",
        "        elif c1 == 0:\n",
        "            candidate1, c1 = num, 1\n",
        "        elif c2 == 0:\n",
        "            candidate2, c2 = num, 1\n",
        "        else:\n",
        "            c1 -= 1\n",
        "            c2 -= 1\n",
        "    c1, c2 = 0, 0\n",
        "    for num in number:\n",
        "        if num == candidate1:\n",
        "            c1 += 1\n",
        "        elif num == candidate2:\n",
        "            c2 += 1\n",
        "    result = []\n",
        "    if c1 > len(number) // 3:\n",
        "        result.append(candidate1)\n",
        "    if c2 > len(number) // 3:\n",
        "        result.append(candidate2)\n",
        "\n",
        "    return result\n",
        "user_input = input()\n",
        "number = list(map(int, user_input.split()))\n",
        "output = finding_elements_occurs_more_than_n_over_k(number)\n",
        "print(output)"
      ]
    }
  ]
}