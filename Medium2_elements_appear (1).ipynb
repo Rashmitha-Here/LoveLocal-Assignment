{
  "nbformat": 4,
  "nbformat_minor": 0,
  "metadata": {
    "colab": {
      "provenance": []
    },
    "kernelspec": {
      "name": "python3",
      "display_name": "Python 3"
    },
    "language_info": {
      "name": "python"
    }
  },
  "cells": [
    {
      "cell_type": "code",
      "execution_count": 2,
      "metadata": {
        "colab": {
          "base_uri": "https://localhost:8080/"
        },
        "id": "3qwK_zdO0gm3",
        "outputId": "ff24f2a5-dc83-4b9a-dfa0-c88d05d3aa0e"
      },
      "outputs": [
        {
          "output_type": "stream",
          "name": "stdout",
          "text": [
            "3 2 3\n",
            "[3]\n"
          ]
        }
      ],
      "source": [
        "def finding_elements_occurs_more_than_n_over_k(number):\n",
        "    if not number:\n",
        "        return []\n",
        "\n",
        "    candidate1, c1 = None, 0\n",
        "    candidate2, c2 = None, 0\n",
        "    for num in number:\n",
        "        if candidate1 == num:\n",
        "            c1 += 1\n",
        "        elif candidate2 == num:\n",
        "            c2 += 1\n",
        "        elif c1 == 0:\n",
        "            candidate1, c1 = num, 1\n",
        "        elif c2 == 0:\n",
        "            candidate2, c2 = num, 1\n",
        "        else:\n",
        "            c1 -= 1\n",
        "            c2 -= 1\n",
        "    c1, c2 = 0, 0\n",
        "    for num in number:\n",
        "        if num == candidate1:\n",
        "            c1 += 1\n",
        "        elif num == candidate2:\n",
        "            c2 += 1\n",
        "    result = []\n",
        "    if c1 > len(number) // 3:\n",
        "        result.append(candidate1)\n",
        "    if c2 > len(number) // 3:\n",
        "        result.append(candidate2)\n",
        "\n",
        "    return result\n",
        "user_input = input()\n",
        "number = list(map(int, user_input.split()))\n",
        "output = finding_elements_occurs_more_than_n_over_k(number)\n",
        "print(output)"
      ]
    },
    {
      "cell_type": "markdown",
      "source": [
        "The algorithm used in the code is use of the Boyer-Moore Majority Vote algorithm. This algorithm is used to find elements that appear more than ⌊n/3⌋ times in an array.\n",
        "First We have a function called finding_elements_occurs_more_than_n_over_k that aims to find elements in an array that appear more than ⌊n/3⌋ times.\n",
        "\n",
        "The function uses a clever voting process to keep track of potential candidates that might be the majority elements in the array.\n",
        "After the voting process, the function counts the occurrences of the potential candidates to determine if they appear more than ⌊n/3⌋ times.\n",
        "\n",
        "We take user input for a list of numbers. The user is prompted to enter these numbers, separating them with spaces.The entered string of numbers is then converted into a list of integers, so the program can work with these numbers.\n",
        "\n",
        "We call the finding_elements_occurs_more_than_n_over_k function, passing the list of numbers provided by the user as an argument.\n",
        "\n",
        "output: the program prints the elements from the user-provided list that appear more than ⌊n/3⌋ times.\n",
        "\n",
        "This code allows a user to input a list of numbers, and the program finds and displays the elements in that list that occur more frequently than one-third of the total number of elements."
      ],
      "metadata": {
        "id": "oyFaOaBY4caT"
      }
    }
  ]
}