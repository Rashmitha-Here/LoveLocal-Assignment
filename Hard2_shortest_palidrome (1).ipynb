{
  "nbformat": 4,
  "nbformat_minor": 0,
  "metadata": {
    "colab": {
      "provenance": []
    },
    "kernelspec": {
      "name": "python3",
      "display_name": "Python 3"
    },
    "language_info": {
      "name": "python"
    }
  },
  "cells": [
    {
      "cell_type": "code",
      "execution_count": 1,
      "metadata": {
        "colab": {
          "base_uri": "https://localhost:8080/"
        },
        "id": "cglx4NNo05TL",
        "outputId": "3fd42c0a-774b-475a-bfe6-8893b7c992c5"
      },
      "outputs": [
        {
          "output_type": "stream",
          "name": "stdout",
          "text": [
            "abcd\n",
            "dcbabcd\n"
          ]
        }
      ],
      "source": [
        "def shortest_palindrome(str):\n",
        "    if not str:\n",
        "        return \"\"\n",
        "\n",
        "    combined = str + \"#\" + str[::-1]\n",
        "\n",
        "    prefix = [0] * len(combined)\n",
        "    for i in range(1, len(combined)):\n",
        "        j = prefix[i - 1]\n",
        "        while j > 0 and combined[i] != combined[j]:\n",
        "            j = prefix[j - 1]\n",
        "        if combined[i] == combined[j]:\n",
        "            j += 1\n",
        "        prefix[i] = j\n",
        "\n",
        "    palindrome_len = prefix[-1]\n",
        "    return str[palindrome_len:][::-1] + str\n",
        "\n",
        "str = input()\n",
        "output = shortest_palindrome(str)\n",
        "print(output)"
      ]
    },
    {
      "cell_type": "markdown",
      "source": [
        "To make a palindrome, we add characters in front of it. To find the shortest palindrome, we combining str with its reverse, separated by a special symbol.Here, we use a smart technique called the KMP algorithm to figure out where the palindrome part is in this combined string. The KMP algorithm helps us find the longest part at the beginning that is also at the end.\n",
        "The KMP algorithm gives us a list of numbers, and the last number in that list tells us how long the palindrome part is.\n",
        "Now that we know the length of the palindrome part, we take the remaining characters in the original string after this part, reverse them, and attach the original string.\n",
        "This gives us the shortest palindrome.\n",
        "\n",
        "ouput: The output is the shortest palindrome you can create by adding characters in front of the original string."
      ],
      "metadata": {
        "id": "UITcQbk23DRt"
      }
    }
  ]
}