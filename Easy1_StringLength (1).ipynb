{
  "nbformat": 4,
  "nbformat_minor": 0,
  "metadata": {
    "colab": {
      "provenance": []
    },
    "kernelspec": {
      "name": "python3",
      "display_name": "Python 3"
    },
    "language_info": {
      "name": "python"
    }
  },
  "cells": [
    {
      "cell_type": "code",
      "execution_count": 1,
      "metadata": {
        "colab": {
          "base_uri": "https://localhost:8080/"
        },
        "id": "6ZZc90zXzxHh",
        "outputId": "da55be74-aa0e-4fc1-9882-dccaad650ab0"
      },
      "outputs": [
        {
          "output_type": "stream",
          "name": "stdout",
          "text": [
            "fly me   to   the moon\n",
            "4\n"
          ]
        }
      ],
      "source": [
        "def Length_Of_LastWord(str):\n",
        "    Words = str.split()\n",
        "\n",
        "    if not Words:\n",
        "        return 0\n",
        "\n",
        "    return len(Words[-1])\n",
        "\n",
        "str = input()\n",
        "output = Length_Of_LastWord(str)\n",
        "print(output)"
      ]
    },
    {
      "cell_type": "markdown",
      "source": [
        "This algorithm starts by taking a sentence or a group of words as input. This could be any string, and we'll refer to it as str.\n",
        "Then the algorithm traverse at each word in the sentence and by breaking the sentence into individual words.\n",
        "\n",
        "After, the algorithm checks if there are any words in the list or If, for some reason, there are no words (empty string or just spaces), it returns 0.If there are Strings, the algorithm goes on to the last step. It figures out the length of the last word in the list. For example, if the list is Happy Day it looks at last word \"Day\" and returns 3 as the output.\n",
        "\n",
        "Finally, the outpout of the algorithm gives you either the length of the last word or 0 ."
      ],
      "metadata": {
        "id": "0h1LxmYh736E"
      }
    }
  ]
}