{
  "nbformat": 4,
  "nbformat_minor": 0,
  "metadata": {
    "colab": {
      "provenance": []
    },
    "kernelspec": {
      "name": "python3",
      "display_name": "Python 3"
    },
    "language_info": {
      "name": "python"
    }
  },
  "cells": [
    {
      "cell_type": "code",
      "execution_count": 1,
      "metadata": {
        "colab": {
          "base_uri": "https://localhost:8080/"
        },
        "id": "6ZZc90zXzxHh",
        "outputId": "da55be74-aa0e-4fc1-9882-dccaad650ab0"
      },
      "outputs": [
        {
          "output_type": "stream",
          "name": "stdout",
          "text": [
            "fly me   to   the moon\n",
            "4\n"
          ]
        }
      ],
      "source": [
        "def Length_Of_LastWord(str):\n",
        "    Words = str.split()\n",
        "\n",
        "    if not Words:\n",
        "        return 0\n",
        "\n",
        "    return len(Words[-1])\n",
        "\n",
        "str = input()\n",
        "output = Length_Of_LastWord(str)\n",
        "print(output)"
      ]
    }
  ]
}